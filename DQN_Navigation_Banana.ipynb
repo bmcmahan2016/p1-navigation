{
 "cells": [
  {
   "cell_type": "markdown",
   "id": "d38863c4",
   "metadata": {},
   "source": [
    "# Setting up Navigation Environment\n",
    "Run the cells below to set up the square Unity environment containing yellow and blue bananas. This environment will be used to train and test the agent."
   ]
  },
  {
   "cell_type": "code",
   "execution_count": 1,
   "id": "7068a208",
   "metadata": {},
   "outputs": [],
   "source": [
    "from unityagents import UnityEnvironment\n",
    "import numpy as np\n",
    "import torch\n",
    "from collections import deque\n",
    "import matplotlib.pyplot as plt"
   ]
  },
  {
   "cell_type": "code",
   "execution_count": 2,
   "id": "cb5c65ea",
   "metadata": {},
   "outputs": [
    {
     "name": "stderr",
     "output_type": "stream",
     "text": [
      "INFO:unityagents:\n",
      "'Academy' started successfully!\n",
      "Unity Academy name: Academy\n",
      "        Number of Brains: 1\n",
      "        Number of External Brains : 1\n",
      "        Lesson number : 0\n",
      "        Reset Parameters :\n",
      "\t\t\n",
      "Unity brain name: BananaBrain\n",
      "        Number of Visual Observations (per agent): 0\n",
      "        Vector Observation space type: continuous\n",
      "        Vector Observation space size (per agent): 37\n",
      "        Number of stacked Vector Observation: 1\n",
      "        Vector Action space type: discrete\n",
      "        Vector Action space size (per agent): 4\n",
      "        Vector Action descriptions: , , , \n"
     ]
    }
   ],
   "source": [
    "env = UnityEnvironment(file_name=\"Banana.exe\")"
   ]
  },
  {
   "cell_type": "code",
   "execution_count": 3,
   "id": "b3897e4c",
   "metadata": {},
   "outputs": [],
   "source": [
    "# get the default brain\n",
    "brain_name = env.brain_names[0]\n",
    "brain = env.brains[brain_name]"
   ]
  },
  {
   "cell_type": "code",
   "execution_count": 4,
   "id": "5282d644",
   "metadata": {},
   "outputs": [
    {
     "name": "stdout",
     "output_type": "stream",
     "text": [
      "Number of agents: 1\n",
      "Number of actions: 4\n",
      "States look like: [1.         0.         0.         0.         0.84408134 0.\n",
      " 0.         1.         0.         0.0748472  0.         1.\n",
      " 0.         0.         0.25755    1.         0.         0.\n",
      " 0.         0.74177343 0.         1.         0.         0.\n",
      " 0.25854847 0.         0.         1.         0.         0.09355672\n",
      " 0.         1.         0.         0.         0.31969345 0.\n",
      " 0.        ]\n",
      "States have length: 37\n"
     ]
    }
   ],
   "source": [
    "# reset the environment\n",
    "env_info = env.reset(train_mode=True)[brain_name]\n",
    "\n",
    "# number of agents in the environment\n",
    "print('Number of agents:', len(env_info.agents))\n",
    "\n",
    "# number of actions\n",
    "action_size = brain.vector_action_space_size\n",
    "print('Number of actions:', action_size)\n",
    "\n",
    "# examine the state space \n",
    "state = env_info.vector_observations[0]\n",
    "print('States look like:', state)\n",
    "state_size = len(state)\n",
    "print('States have length:', state_size)"
   ]
  },
  {
   "cell_type": "markdown",
   "id": "8b214f66",
   "metadata": {},
   "source": [
    "# Train an agent in the environment\n",
    "Running the cells below will allow you to train an agent from scratch in this environment. The model for the Q-network is described in model.py while the agent is detailed in dqn_agent.py"
   ]
  },
  {
   "cell_type": "code",
   "execution_count": 5,
   "id": "223a08c6",
   "metadata": {},
   "outputs": [],
   "source": [
    "def train(agent, env, n_episodes=2000, max_t=1000, eps_start=1.0, eps_end=0.01, eps_decay=0.995):\n",
    "    \"\"\"Uses Deep Q-Learning to train an agent in the provided environment.\n",
    "    \n",
    "    Params\n",
    "    ======\n",
    "        n_episodes (int): maximum number of training episodes\n",
    "        max_t (int): maximum number of timesteps per episode\n",
    "        eps_start (float): starting value of epsilon, for epsilon-greedy action selection\n",
    "        eps_end (float): minimum value of epsilon\n",
    "        eps_decay (float): multiplicative factor (per episode) for decreasing epsilon\n",
    "    \"\"\"\n",
    "    brain_name = env.brain_names[0]\n",
    "    brain = env.brains[brain_name]\n",
    "    scores = []                        # list containing scores from each episode\n",
    "    scores_window = deque(maxlen=100)  # last 100 scores\n",
    "    eps = eps_start                    # initialize epsilon\n",
    "    for i_episode in range(1, n_episodes+1):\n",
    "        # reset the environment\n",
    "        env_info = env.reset(train_mode=True)[brain_name]\n",
    "        state = env_info.vector_observations[0]\n",
    "        score = 0\n",
    "\n",
    "        while True:\n",
    "            # get action from the agent\n",
    "            action = agent.act(state, eps)\n",
    "            \n",
    "            #print(\"\\nbrain name:\", brain_name)\n",
    "            # play this action in the environment\n",
    "            env_info = env.step(action)[brain_name]\n",
    "            next_state = env_info.vector_observations[0]\n",
    "            reward = env_info.rewards[0]\n",
    "            done = env_info.local_done[0]\n",
    "            agent.step(state, action, reward, next_state, done)\n",
    "            state = next_state  # I originally forgot this line\n",
    "            score += reward\n",
    "            if done:\n",
    "                break \n",
    "                \n",
    "        scores_window.append(score)       # save most recent score\n",
    "        scores.append(score)              # save most recent score\n",
    "        eps = max(eps_end, eps_decay*eps) # decrease epsilon\n",
    "        print('\\rEpisode {}\\tAverage Score: {:.2f}'.format(i_episode, np.mean(scores_window)), end=\"\")\n",
    "        if i_episode % 100 == 0:\n",
    "            print('\\rEpisode {}\\tAverage Score: {:.2f}'.format(i_episode, np.mean(scores_window)))\n",
    "        if np.mean(scores_window)>=200.0:\n",
    "            print('\\nEnvironment solved in {:d} episodes!\\tAverage Score: {:.2f}'.format(i_episode-100, np.mean(scores_window)))\n",
    "            torch.save(agent.qnetwork_local.state_dict(), 'checkpoint.pth')\n",
    "            break\n",
    "    return scores"
   ]
  },
  {
   "cell_type": "code",
   "execution_count": 6,
   "id": "08dac7dd",
   "metadata": {},
   "outputs": [],
   "source": [
    "from dqn_agent import Agent\n",
    "agent = Agent(state_size=state_size, action_size=action_size, seed=0)  # create an agent for this environment"
   ]
  },
  {
   "cell_type": "code",
   "execution_count": 7,
   "id": "e51defb4",
   "metadata": {},
   "outputs": [
    {
     "name": "stdout",
     "output_type": "stream",
     "text": [
      "Episode 100\tAverage Score: 0.70\n",
      "Episode 200\tAverage Score: 4.09\n",
      "Episode 300\tAverage Score: 7.47\n",
      "Episode 400\tAverage Score: 9.45\n",
      "Episode 500\tAverage Score: 11.25\n",
      "Episode 600\tAverage Score: 14.04\n",
      "Episode 700\tAverage Score: 15.09\n",
      "Episode 800\tAverage Score: 15.67\n",
      "Episode 900\tAverage Score: 16.25\n",
      "Episode 1000\tAverage Score: 16.13\n",
      "Episode 1100\tAverage Score: 16.11\n",
      "Episode 1200\tAverage Score: 15.54\n",
      "Episode 1300\tAverage Score: 16.94\n",
      "Episode 1400\tAverage Score: 15.72\n",
      "Episode 1500\tAverage Score: 15.56\n",
      "Episode 1600\tAverage Score: 16.03\n",
      "Episode 1700\tAverage Score: 15.01\n",
      "Episode 1800\tAverage Score: 15.38\n",
      "Episode 1900\tAverage Score: 15.91\n",
      "Episode 2000\tAverage Score: 15.31\n"
     ]
    }
   ],
   "source": [
    "scores = train(agent, env, n_episodes=2000)\n",
    "agent.qnetwork_local.save()  # saves the model weights after training"
   ]
  },
  {
   "cell_type": "code",
   "execution_count": 8,
   "id": "0398cadf",
   "metadata": {},
   "outputs": [
    {
     "data": {
      "text/plain": [
       "[<matplotlib.lines.Line2D at 0x21c3c57f2b0>]"
      ]
     },
     "execution_count": 8,
     "metadata": {},
     "output_type": "execute_result"
    },
    {
     "data": {
      "image/png": "[encoded data removed]",
      "text/plain": [
       "<Figure size 432x288 with 1 Axes>"
      ]
     },
     "metadata": {
      "needs_background": "light"
     },
     "output_type": "display_data"
    }
   ],
   "source": [
    "plt.plot(scores)"
   ]
  },
  {
   "cell_type": "markdown",
   "id": "cab3e22c",
   "metadata": {},
   "source": [
    "# Alternatively, load a pretrained agent\n",
    "Instead of training an agent in the above cells, the bellow cell will load the weights from an agent that was already trained. Please note, if you have run the above training cells, then loading a pretrained agent will just load the model that you recently trained."
   ]
  },
  {
   "cell_type": "code",
   "execution_count": 9,
   "id": "4af1dfbd",
   "metadata": {},
   "outputs": [],
   "source": [
    "from dqn_agent import Agent\n",
    "agent = Agent(state_size=state_size, action_size=action_size, seed=0)  # create an agent for this environment\n",
    "agent.load_model_weights()"
   ]
  },
  {
   "cell_type": "markdown",
   "id": "ec3b35fa",
   "metadata": {},
   "source": [
    "# Visualize Trained Agent\n",
    "Run this to watch the agents performance in real time and see the score obtained by the agent."
   ]
  },
  {
   "cell_type": "code",
   "execution_count": 10,
   "id": "45166951",
   "metadata": {},
   "outputs": [
    {
     "name": "stdout",
     "output_type": "stream",
     "text": [
      "Score: 17.0\n"
     ]
    }
   ],
   "source": [
    "env_info = env.reset(train_mode=False)[brain_name] # reset the environment\n",
    "state = env_info.vector_observations[0]            # get the current state\n",
    "score = 0                                          # initialize the score\n",
    "while True:\n",
    "    action = agent.act(state)                      # select an action\n",
    "    env_info = env.step(action)[brain_name]        # send the action to the environment\n",
    "    next_state = env_info.vector_observations[0]   # get the next state\n",
    "    reward = env_info.rewards[0]                   # get the reward\n",
    "    done = env_info.local_done[0]                  # see if episode has finished\n",
    "    score += reward                                # update the score\n",
    "    state = next_state                             # roll over the state to next time step\n",
    "    if done:                                       # exit loop if episode finished\n",
    "        break\n",
    "    \n",
    "print(\"Score: {}\".format(score))"
   ]
  }
 ],
 "metadata": {
  "kernelspec": {
   "display_name": "drlnd",
   "language": "python",
   "name": "drlnd"
  },
  "language_info": {
   "codemirror_mode": {
    "name": "ipython",
    "version": 3
   },
   "file_extension": ".py",
   "mimetype": "text/x-python",
   "name": "python",
   "nbconvert_exporter": "python",
   "pygments_lexer": "ipython3",
   "version": "3.6.13"
  }
 },
 "nbformat": 4,
 "nbformat_minor": 5
}
